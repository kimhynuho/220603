{
  "nbformat": 4,
  "nbformat_minor": 0,
  "metadata": {
    "colab": {
      "provenance": [],
      "collapsed_sections": [],
      "authorship_tag": "ABX9TyNd+XDsp9/GSk+uAYUdOq2i",
      "include_colab_link": true
    },
    "kernelspec": {
      "name": "python3",
      "display_name": "Python 3"
    },
    "language_info": {
      "name": "python"
    }
  },
  "cells": [
    {
      "cell_type": "markdown",
      "metadata": {
        "id": "view-in-github",
        "colab_type": "text"
      },
      "source": [
        "<a href=\"https://colab.research.google.com/github/kimhynuho/220603/blob/main/Untitled26.ipynb\" target=\"_parent\"><img src=\"https://colab.research.google.com/assets/colab-badge.svg\" alt=\"Open In Colab\"/></a>"
      ]
    },
    {
      "cell_type": "code",
      "execution_count": 1,
      "metadata": {
        "colab": {
          "base_uri": "https://localhost:8080/"
        },
        "id": "pbXu57oXrK3c",
        "outputId": "fdde7d4b-6d2a-4db4-c4c3-8cc416eb118c"
      },
      "outputs": [
        {
          "output_type": "stream",
          "name": "stdout",
          "text": [
            "Twinkle, twinkle, little star, \n",
            "\tHow I wonder what you are! \n",
            "\t\tUp above the world so high, \n",
            "\t\tLike a diamond in the sky. \n",
            "Twinkle, twinkle, little star, \n",
            "\tHow I wonder what you are!\n"
          ]
        }
      ],
      "source": [
        "print(\"Twinkle, twinkle, little star, \\n\\tHow I wonder what you are! \\n\\t\\tUp above the world so high, \\n\\t\\tLike a diamond in the sky. \\nTwinkle, twinkle, little star, \\n\\tHow I wonder what you are!\")"
      ]
    },
    {
      "cell_type": "code",
      "source": [
        "import sys\n",
        "print(\"Python version\")\n",
        "print (sys.version)\n",
        "print(\"Version info.\")\n",
        "print (sys.version_info)\n"
      ],
      "metadata": {
        "colab": {
          "base_uri": "https://localhost:8080/"
        },
        "id": "1nTpVvZYrZ9d",
        "outputId": "58e0cc6f-363b-4d77-a248-18705586976b"
      },
      "execution_count": 2,
      "outputs": [
        {
          "output_type": "stream",
          "name": "stdout",
          "text": [
            "Python version\n",
            "3.7.14 (default, Sep  8 2022, 00:06:44) \n",
            "[GCC 7.5.0]\n",
            "Version info.\n",
            "sys.version_info(major=3, minor=7, micro=14, releaselevel='final', serial=0)\n"
          ]
        }
      ]
    },
    {
      "cell_type": "code",
      "source": [
        "import datetime\n",
        "now = datetime.datetime.now()\n",
        "print (\"Current date and time : \")\n",
        "print (now.strftime(\"%Y-%m-%d %H:%M:%S\"))\n",
        "from math import pi\n",
        "r = float(input (\"Input the radius of the circle : \"))\n",
        "print (\"The area of the circle with radius \" + str(r) + \" is: \" + str(pi * r**2))\n"
      ],
      "metadata": {
        "colab": {
          "base_uri": "https://localhost:8080/"
        },
        "id": "Ennh7yL6racz",
        "outputId": "c6e01695-b77d-4f63-84a1-dac2dcd3c6a5"
      },
      "execution_count": 6,
      "outputs": [
        {
          "output_type": "stream",
          "name": "stdout",
          "text": [
            "Current date and time : \n",
            "2022-09-19 07:44:21\n",
            "Input the radius of the circle : 3\n",
            "The area of the circle with radius 3.0 is: 28.274333882308138\n"
          ]
        }
      ]
    },
    {
      "cell_type": "code",
      "source": [
        "fname = input(\"Input your First Name : \")\n",
        "lname = input(\"Input your Last Name : \")\n",
        "print (\"Hello  \" + lname + \" \" + fname)\n"
      ],
      "metadata": {
        "colab": {
          "base_uri": "https://localhost:8080/"
        },
        "id": "3i82tELWsTzr",
        "outputId": "2d29d12b-61c8-4022-f02b-1e8f2153abbd"
      },
      "execution_count": 8,
      "outputs": [
        {
          "output_type": "stream",
          "name": "stdout",
          "text": [
            "Input your First Name : hyunho\n",
            "Input your Last Name : kim\n",
            "Hello  kim hyunho\n"
          ]
        }
      ]
    },
    {
      "cell_type": "code",
      "source": [
        "  values = input(\"Input some comma seprated numbers : \")\n",
        "list = values.split(\",\")\n",
        "tuple = tuple(list)\n",
        "print('List : ',list)\n",
        "print('Tuple : ',tuple)"
      ],
      "metadata": {
        "colab": {
          "base_uri": "https://localhost:8080/",
          "height": 266
        },
        "id": "3lu4e0tBuJxl",
        "outputId": "a3baae6f-328d-4991-d42d-1be524e62501"
      },
      "execution_count": 17,
      "outputs": [
        {
          "name": "stdout",
          "output_type": "stream",
          "text": [
            "Input some comma seprated numbers :  3,5,7,23 \n"
          ]
        },
        {
          "output_type": "error",
          "ename": "TypeError",
          "evalue": "ignored",
          "traceback": [
            "\u001b[0;31m---------------------------------------------------------------------------\u001b[0m",
            "\u001b[0;31mTypeError\u001b[0m                                 Traceback (most recent call last)",
            "\u001b[0;32m<ipython-input-17-6030b101377c>\u001b[0m in \u001b[0;36m<module>\u001b[0;34m\u001b[0m\n\u001b[1;32m      1\u001b[0m \u001b[0mvalues\u001b[0m \u001b[0;34m=\u001b[0m \u001b[0minput\u001b[0m\u001b[0;34m(\u001b[0m\u001b[0;34m\"Input some comma seprated numbers : \"\u001b[0m\u001b[0;34m)\u001b[0m\u001b[0;34m\u001b[0m\u001b[0;34m\u001b[0m\u001b[0m\n\u001b[1;32m      2\u001b[0m \u001b[0mlist\u001b[0m \u001b[0;34m=\u001b[0m \u001b[0mvalues\u001b[0m\u001b[0;34m.\u001b[0m\u001b[0msplit\u001b[0m\u001b[0;34m(\u001b[0m\u001b[0;34m\",\"\u001b[0m\u001b[0;34m)\u001b[0m\u001b[0;34m\u001b[0m\u001b[0;34m\u001b[0m\u001b[0m\n\u001b[0;32m----> 3\u001b[0;31m \u001b[0mtuple\u001b[0m \u001b[0;34m=\u001b[0m \u001b[0mtuple\u001b[0m\u001b[0;34m(\u001b[0m\u001b[0mlist\u001b[0m\u001b[0;34m)\u001b[0m\u001b[0;34m\u001b[0m\u001b[0;34m\u001b[0m\u001b[0m\n\u001b[0m\u001b[1;32m      4\u001b[0m \u001b[0mprint\u001b[0m\u001b[0;34m(\u001b[0m\u001b[0;34m'List : '\u001b[0m\u001b[0;34m,\u001b[0m\u001b[0mlist\u001b[0m\u001b[0;34m)\u001b[0m\u001b[0;34m\u001b[0m\u001b[0;34m\u001b[0m\u001b[0m\n\u001b[1;32m      5\u001b[0m \u001b[0mprint\u001b[0m\u001b[0;34m(\u001b[0m\u001b[0;34m'Tuple : '\u001b[0m\u001b[0;34m,\u001b[0m\u001b[0mtuple\u001b[0m\u001b[0;34m)\u001b[0m\u001b[0;34m\u001b[0m\u001b[0;34m\u001b[0m\u001b[0m\n",
            "\u001b[0;31mTypeError\u001b[0m: 'tuple' object is not callable"
          ]
        }
      ]
    },
    {
      "cell_type": "code",
      "source": [
        "filename = input(\"Input the Filename: \")\n",
        "f_extns = filename.split(\".\")\n",
        "print (\"The extension of the file is : \" + repr(f_extns[-1]))"
      ],
      "metadata": {
        "colab": {
          "base_uri": "https://localhost:8080/"
        },
        "id": "T63nwiQUuTmk",
        "outputId": "5d52133c-383a-41e7-e5b5-505d91b53cd8"
      },
      "execution_count": 18,
      "outputs": [
        {
          "output_type": "stream",
          "name": "stdout",
          "text": [
            "Input the Filename: abc. java\n",
            "The extension of the file is : ' java'\n"
          ]
        }
      ]
    },
    {
      "cell_type": "code",
      "source": [
        "color_list = [\"Red\",\"Green\",\"White\" ,\"Black\"]\n",
        "print( \"%s %s\"%(color_list[0],color_list[-1]))"
      ],
      "metadata": {
        "colab": {
          "base_uri": "https://localhost:8080/"
        },
        "id": "ZEPxSQXDueak",
        "outputId": "7bbc240c-083e-4d4f-964b-2654252bffcc"
      },
      "execution_count": 19,
      "outputs": [
        {
          "output_type": "stream",
          "name": "stdout",
          "text": [
            "Red Black\n"
          ]
        }
      ]
    },
    {
      "cell_type": "code",
      "source": [
        "exam_st_date = (11,12,2014)\n",
        "print( \"The examination will start from : %i / %i / %i\"%exam_st_date)"
      ],
      "metadata": {
        "colab": {
          "base_uri": "https://localhost:8080/"
        },
        "id": "i2x0FySauelE",
        "outputId": "97f99616-3c5a-419a-d080-420035312c42"
      },
      "execution_count": 20,
      "outputs": [
        {
          "output_type": "stream",
          "name": "stdout",
          "text": [
            "The examination will start from : 11 / 12 / 2014\n"
          ]
        }
      ]
    },
    {
      "cell_type": "code",
      "source": [
        "a = int(input(\"Input an integer : \"))\n",
        "n1 = int( \"%s\" % a )\n",
        "n2 = int( \"%s%s\" % (a,a) )\n",
        "n3 = int( \"%s%s%s\" % (a,a,a) )\n",
        "print (n1+n2+n3)"
      ],
      "metadata": {
        "colab": {
          "base_uri": "https://localhost:8080/"
        },
        "id": "Iruj2YRquert",
        "outputId": "70b02167-d1d0-4afe-b64e-a6e780cd94ba"
      },
      "execution_count": 21,
      "outputs": [
        {
          "output_type": "stream",
          "name": "stdout",
          "text": [
            "Input an integer : 615\n",
            "616231845\n"
          ]
        }
      ]
    },
    {
      "cell_type": "code",
      "source": [
        "print(abs.__doc__)"
      ],
      "metadata": {
        "colab": {
          "base_uri": "https://localhost:8080/"
        },
        "id": "Qa_QVZx6ueya",
        "outputId": "057c2f26-e8b5-47c6-cfd9-4cb912ab0070"
      },
      "execution_count": 22,
      "outputs": [
        {
          "output_type": "stream",
          "name": "stdout",
          "text": [
            "Return the absolute value of the argument.\n"
          ]
        }
      ]
    },
    {
      "cell_type": "code",
      "source": [
        "import calendar\n",
        "y = int(input(\"Input the year : \"))\n",
        "m = int(input(\"Input the month : \"))\n",
        "print(calendar.month(y, m))"
      ],
      "metadata": {
        "colab": {
          "base_uri": "https://localhost:8080/",
          "height": 268
        },
        "id": "6kg28CEaue0z",
        "outputId": "4088b5da-16f4-45f0-a8d3-1740b125a1b5"
      },
      "execution_count": 23,
      "outputs": [
        {
          "name": "stdout",
          "output_type": "stream",
          "text": [
            "Input the year : Input the year : 2017                                                                                          Input the month : 04                                                                                                April 2017                                                                                                Mo Tu We Th Fr Sa Su                                                                                                           1  2                                                                                            3  4  5  6  7  8  9                                                                                           10 11 12 13 14 15 16                                                                                           17 18 19 20 21 22 23                                                                                           24 25 26 27 28 29 30 \n"
          ]
        },
        {
          "output_type": "error",
          "ename": "ValueError",
          "evalue": "ignored",
          "traceback": [
            "\u001b[0;31m---------------------------------------------------------------------------\u001b[0m",
            "\u001b[0;31mValueError\u001b[0m                                Traceback (most recent call last)",
            "\u001b[0;32m<ipython-input-23-e0aa8febe522>\u001b[0m in \u001b[0;36m<module>\u001b[0;34m\u001b[0m\n\u001b[1;32m      1\u001b[0m \u001b[0;32mimport\u001b[0m \u001b[0mcalendar\u001b[0m\u001b[0;34m\u001b[0m\u001b[0;34m\u001b[0m\u001b[0m\n\u001b[0;32m----> 2\u001b[0;31m \u001b[0my\u001b[0m \u001b[0;34m=\u001b[0m \u001b[0mint\u001b[0m\u001b[0;34m(\u001b[0m\u001b[0minput\u001b[0m\u001b[0;34m(\u001b[0m\u001b[0;34m\"Input the year : \"\u001b[0m\u001b[0;34m)\u001b[0m\u001b[0;34m)\u001b[0m\u001b[0;34m\u001b[0m\u001b[0;34m\u001b[0m\u001b[0m\n\u001b[0m\u001b[1;32m      3\u001b[0m \u001b[0mm\u001b[0m \u001b[0;34m=\u001b[0m \u001b[0mint\u001b[0m\u001b[0;34m(\u001b[0m\u001b[0minput\u001b[0m\u001b[0;34m(\u001b[0m\u001b[0;34m\"Input the month : \"\u001b[0m\u001b[0;34m)\u001b[0m\u001b[0;34m)\u001b[0m\u001b[0;34m\u001b[0m\u001b[0;34m\u001b[0m\u001b[0m\n\u001b[1;32m      4\u001b[0m \u001b[0mprint\u001b[0m\u001b[0;34m(\u001b[0m\u001b[0mcalendar\u001b[0m\u001b[0;34m.\u001b[0m\u001b[0mmonth\u001b[0m\u001b[0;34m(\u001b[0m\u001b[0my\u001b[0m\u001b[0;34m,\u001b[0m \u001b[0mm\u001b[0m\u001b[0;34m)\u001b[0m\u001b[0;34m)\u001b[0m\u001b[0;34m\u001b[0m\u001b[0;34m\u001b[0m\u001b[0m\n",
            "\u001b[0;31mValueError\u001b[0m: invalid literal for int() with base 10: 'Input the year : 2017                                                                                          Input the month : 04                                                                    "
          ]
        }
      ]
    },
    {
      "cell_type": "code",
      "source": [
        "print(\"\"\"\n",
        "a string that you \"don't\" have to escape\n",
        "This\n",
        "is a  ....... multi-line\n",
        "heredoc string --------> example\n",
        "\"\"\")\n"
      ],
      "metadata": {
        "colab": {
          "base_uri": "https://localhost:8080/"
        },
        "id": "dgFLww_que3L",
        "outputId": "4792fef5-0dfb-4d35-9c7d-2dab1dc5e228"
      },
      "execution_count": 24,
      "outputs": [
        {
          "output_type": "stream",
          "name": "stdout",
          "text": [
            "\n",
            "a string that you \"don't\" have to escape\n",
            "This\n",
            "is a  ....... multi-line\n",
            "heredoc string --------> example\n",
            "\n"
          ]
        }
      ]
    },
    {
      "cell_type": "code",
      "source": [
        "from datetime import date\n",
        "f_date = date(2014, 7, 2)\n",
        "l_date = date(2014, 7, 11)\n",
        "delta = l_date - f_date\n",
        "print(delta.days)"
      ],
      "metadata": {
        "colab": {
          "base_uri": "https://localhost:8080/"
        },
        "id": "kgTvT0yfue5g",
        "outputId": "2bd8f6ab-2306-4b5a-b8a6-a6324780575f"
      },
      "execution_count": 25,
      "outputs": [
        {
          "output_type": "stream",
          "name": "stdout",
          "text": [
            "9\n"
          ]
        }
      ]
    },
    {
      "cell_type": "code",
      "source": [
        "pi = 3.1415926535897931\n",
        "r= 6.0\n",
        "V= 4.0/3.0*pi* r**3\n",
        "print('The volume of the sphere is: ',V)"
      ],
      "metadata": {
        "colab": {
          "base_uri": "https://localhost:8080/"
        },
        "id": "Ilzzk-Lyue78",
        "outputId": "09218167-fd2a-42c3-a9cf-de6d90639c61"
      },
      "execution_count": 26,
      "outputs": [
        {
          "output_type": "stream",
          "name": "stdout",
          "text": [
            "The volume of the sphere is:  904.7786842338603\n"
          ]
        }
      ]
    },
    {
      "cell_type": "code",
      "source": [
        "def difference(n):\n",
        "    if n <= 17:\n",
        "        return 17 - n\n",
        "    else:\n",
        "        return (n - 17) * 2 \n",
        "\n",
        "print(difference(22))\n",
        "print(difference(14))"
      ],
      "metadata": {
        "colab": {
          "base_uri": "https://localhost:8080/"
        },
        "id": "BXw-3xdGvFM-",
        "outputId": "5acdc7b8-c9b0-4923-a247-017345c1aabb"
      },
      "execution_count": 28,
      "outputs": [
        {
          "output_type": "stream",
          "name": "stdout",
          "text": [
            "10\n",
            "3\n"
          ]
        }
      ]
    },
    {
      "cell_type": "code",
      "source": [
        "def near_thousand(n):\n",
        "      return ((abs(1000 - n) <= 100) or (abs(2000 - n) <= 100))\n",
        "print(near_thousand(1000))\n",
        "print(near_thousand(900))\n",
        "print(near_thousand(800))   \n",
        "print(near_thousand(2200))"
      ],
      "metadata": {
        "colab": {
          "base_uri": "https://localhost:8080/"
        },
        "id": "kZI1fwGJvFPW",
        "outputId": "4b7e6f9b-66aa-47ba-90d9-badc41ed1f63"
      },
      "execution_count": 29,
      "outputs": [
        {
          "output_type": "stream",
          "name": "stdout",
          "text": [
            "True\n",
            "True\n",
            "False\n",
            "False\n"
          ]
        }
      ]
    },
    {
      "cell_type": "code",
      "source": [
        "def sum_thrice(x, y, z):\n",
        "\n",
        "     sum = x + y + z\n",
        "  \n",
        "     if x == y == z:\n",
        "      sum = sum * 3\n",
        "     return sum\n",
        "\n",
        "print(sum_thrice(1, 2, 3))\n",
        "print(sum_thrice(3, 3, 3))"
      ],
      "metadata": {
        "colab": {
          "base_uri": "https://localhost:8080/"
        },
        "id": "f6bBZDpYvFRf",
        "outputId": "53f064c1-9763-4ba8-8d39-a18d6d40a6f8"
      },
      "execution_count": 30,
      "outputs": [
        {
          "output_type": "stream",
          "name": "stdout",
          "text": [
            "6\n",
            "27\n"
          ]
        }
      ]
    },
    {
      "cell_type": "code",
      "source": [
        "def new_string(str):\n",
        "  if len(str) >= 2 and str[:2] == \"Is\":\n",
        "    return str\n",
        "  return \"Is\" + str\n",
        "\n",
        "print(new_string(\"Array\"))\n",
        "print(new_string(\"IsEmpty\"))"
      ],
      "metadata": {
        "colab": {
          "base_uri": "https://localhost:8080/"
        },
        "id": "SxnFirUOvFTr",
        "outputId": "948b1787-0e43-45fa-ec60-f939771eee64"
      },
      "execution_count": 31,
      "outputs": [
        {
          "output_type": "stream",
          "name": "stdout",
          "text": [
            "IsArray\n",
            "IsEmpty\n"
          ]
        }
      ]
    },
    {
      "cell_type": "code",
      "source": [
        "def new_string(str):\n",
        "  if len(str) >= 2 and str[:2] == \"Is\":\n",
        "    return str\n",
        "  return \"Is\" + str\n",
        "\n",
        "print(new_string(\"Array\"))\n",
        "print(new_string(\"IsEmpty\"))"
      ],
      "metadata": {
        "colab": {
          "base_uri": "https://localhost:8080/"
        },
        "id": "NDjDDIrLvFWK",
        "outputId": "a827adaf-3f68-48b7-e2eb-a981ebedd5a3"
      },
      "execution_count": 32,
      "outputs": [
        {
          "output_type": "stream",
          "name": "stdout",
          "text": [
            "IsArray\n",
            "IsEmpty\n"
          ]
        }
      ]
    },
    {
      "cell_type": "code",
      "source": [
        "num = int(input(\"Enter a number: \"))\n",
        "mod = num % 2\n",
        "if mod > 0:\n",
        "    print(\"This is an odd number.\")\n",
        "else:\n",
        "    print(\"This is an even number.\")"
      ],
      "metadata": {
        "colab": {
          "base_uri": "https://localhost:8080/"
        },
        "id": "mB0A-pgLvFYC",
        "outputId": "27a4df7b-ca0c-49b9-b54a-8b723f3d7fb7"
      },
      "execution_count": 33,
      "outputs": [
        {
          "output_type": "stream",
          "name": "stdout",
          "text": [
            "Enter a number: 5\n",
            "This is an odd number.\n"
          ]
        }
      ]
    },
    {
      "cell_type": "code",
      "source": [
        "def list_count_4(nums):\n",
        "  count = 0  \n",
        "  for num in nums:\n",
        "    if num == 4:\n",
        "      count = count + 1\n",
        "\n",
        "  return count\n",
        "\n",
        "print(list_count_4([1, 4, 6, 7, 4]))\n",
        "print(list_count_4([1, 4, 6, 4, 7, 4]))"
      ],
      "metadata": {
        "colab": {
          "base_uri": "https://localhost:8080/"
        },
        "id": "kYWCPaQ3vFaG",
        "outputId": "aecdab03-f38c-4e95-cdea-4d4d6b4b23ee"
      },
      "execution_count": 34,
      "outputs": [
        {
          "output_type": "stream",
          "name": "stdout",
          "text": [
            "2\n",
            "3\n"
          ]
        }
      ]
    },
    {
      "cell_type": "code",
      "source": [
        "def substring_copy(str, n):\n",
        "  flen = 2\n",
        "  if flen > len(str):\n",
        "    flen = len(str)\n",
        "  substr = str[:flen]\n",
        "  \n",
        "  result = \"\"\n",
        "  for i in range(n):\n",
        "    result = result + substr\n",
        "  return result\n",
        "print(substring_copy('abcdef', 2))\n",
        "print(substring_copy('p', 3));"
      ],
      "metadata": {
        "colab": {
          "base_uri": "https://localhost:8080/"
        },
        "id": "TNpQu1a6vFed",
        "outputId": "3f2fa076-11a5-40f1-c688-d7116d447685"
      },
      "execution_count": 35,
      "outputs": [
        {
          "output_type": "stream",
          "name": "stdout",
          "text": [
            "abab\n",
            "ppp\n"
          ]
        }
      ]
    },
    {
      "cell_type": "code",
      "source": [
        "def is_vowel(char):\n",
        "    all_vowels = 'aeiou'\n",
        "    return char in all_vowels\n",
        "print(is_vowel('c'))\n",
        "print(is_vowel('e'))"
      ],
      "metadata": {
        "colab": {
          "base_uri": "https://localhost:8080/"
        },
        "id": "yNsl0o6uvFiX",
        "outputId": "cbf9669c-b0b3-4a2f-c547-5a988f8277a9"
      },
      "execution_count": 36,
      "outputs": [
        {
          "output_type": "stream",
          "name": "stdout",
          "text": [
            "False\n",
            "True\n"
          ]
        }
      ]
    },
    {
      "cell_type": "code",
      "source": [
        "def is_group_member(group_data, n):\n",
        "   for value in group_data:\n",
        "       if n == value:\n",
        "           return True\n",
        "   return False\n",
        "print(is_group_member([1, 5, 8, 3], 3))\n",
        "print(is_group_member([5, 8, 3], -1))"
      ],
      "metadata": {
        "colab": {
          "base_uri": "https://localhost:8080/"
        },
        "id": "Pnr5VdI1vFoY",
        "outputId": "9fc2927c-cdb2-4ae3-e7ea-68a1ce54fc56"
      },
      "execution_count": 37,
      "outputs": [
        {
          "output_type": "stream",
          "name": "stdout",
          "text": [
            "True\n",
            "False\n"
          ]
        }
      ]
    },
    {
      "cell_type": "code",
      "source": [
        "def histogram( items ):\n",
        "    for n in items:\n",
        "        output = ''\n",
        "        times = n\n",
        "        while( times > 0 ):\n",
        "          output += '*'\n",
        "          times = times - 1\n",
        "        print(output)\n",
        "\n",
        "histogram([2, 3, 6, 5])"
      ],
      "metadata": {
        "colab": {
          "base_uri": "https://localhost:8080/"
        },
        "id": "nwkf2d-BvFqi",
        "outputId": "30d7d134-73c7-4aab-8806-111e4f3d75bc"
      },
      "execution_count": 38,
      "outputs": [
        {
          "output_type": "stream",
          "name": "stdout",
          "text": [
            "**\n",
            "***\n",
            "******\n",
            "*****\n"
          ]
        }
      ]
    },
    {
      "cell_type": "code",
      "source": [
        "def concatenate_list_data(list):\n",
        "    result= ''\n",
        "    for element in list:\n",
        "        result += str(element)\n",
        "    return result\n",
        "\n",
        "print(concatenate_list_data([1, 5, 12, 2]))"
      ],
      "metadata": {
        "colab": {
          "base_uri": "https://localhost:8080/"
        },
        "id": "SAR9OMq8vFsx",
        "outputId": "30ce8e06-d86f-4c2b-b0b2-c582af639be0"
      },
      "execution_count": 39,
      "outputs": [
        {
          "output_type": "stream",
          "name": "stdout",
          "text": [
            "15122\n"
          ]
        }
      ]
    },
    {
      "cell_type": "code",
      "source": [
        "numbers = [    \n",
        "    386, 462, 47, 418, 907, 344, 236, 375, 823, 566, 597, 978, 328, 615, 953, 345, \n",
        "    399, 162, 758, 219, 918, 237, 412, 566, 826, 248, 866, 950, 626, 949, 687, 217, \n",
        "    815, 67, 104, 58, 512, 24, 892, 894, 767, 553, 81, 379, 843, 831, 445, 742, 717, \n",
        "    958,743, 527\n",
        "    ]\n",
        "\n",
        "for x in numbers:\n",
        "    if x == 237:\n",
        "        print(x)\n",
        "        break;\n",
        "    elif x % 2 == 0:\n",
        "        print(x)"
      ],
      "metadata": {
        "colab": {
          "base_uri": "https://localhost:8080/"
        },
        "id": "KudvNksjvFu4",
        "outputId": "145731b0-28e7-4ebc-e94a-e41f04162125"
      },
      "execution_count": 40,
      "outputs": [
        {
          "output_type": "stream",
          "name": "stdout",
          "text": [
            "386\n",
            "462\n",
            "418\n",
            "344\n",
            "236\n",
            "566\n",
            "978\n",
            "328\n",
            "162\n",
            "758\n",
            "918\n",
            "237\n"
          ]
        }
      ]
    },
    {
      "cell_type": "code",
      "source": [
        "color_list_1 = set([\"White\", \"Black\", \"Red\"])\n",
        "color_list_2 = set([\"Red\", \"Green\"])\n",
        "print(\"Original set elements:\")\n",
        "print(color_list_1)\n",
        "print(color_list_2)\n",
        "print(\"\\nDifferenct of color_list_1 and color_list_2:\")\n",
        "print(color_list_1.difference(color_list_2))\n",
        "print(\"\\nDifferenct of color_list_2 and color_list_1:\")\n",
        "print(color_list_2.difference(color_list_1))"
      ],
      "metadata": {
        "colab": {
          "base_uri": "https://localhost:8080/"
        },
        "id": "fyr1Q4-9vFxF",
        "outputId": "2019ac79-f33b-477a-e349-1f95810d8dc9"
      },
      "execution_count": 41,
      "outputs": [
        {
          "output_type": "stream",
          "name": "stdout",
          "text": [
            "Original set elements:\n",
            "{'Black', 'Red', 'White'}\n",
            "{'Green', 'Red'}\n",
            "\n",
            "Differenct of color_list_1 and color_list_2:\n",
            "{'Black', 'White'}\n",
            "\n",
            "Differenct of color_list_2 and color_list_1:\n",
            "{'Green'}\n"
          ]
        }
      ]
    },
    {
      "cell_type": "code",
      "source": [
        "b = int(input(\"Input the base : \"))\n",
        "h = int(input(\"Input the height : \"))\n",
        "\n",
        "area = b*h/2\n",
        "\n",
        "print(\"area = \", area)"
      ],
      "metadata": {
        "colab": {
          "base_uri": "https://localhost:8080/"
        },
        "id": "B10McW3xvFzt",
        "outputId": "8273f5ca-98fa-4a27-d6a7-ed4eea132c14"
      },
      "execution_count": 42,
      "outputs": [
        {
          "output_type": "stream",
          "name": "stdout",
          "text": [
            "Input the base : 20\n",
            "Input the height : 40\n",
            "area =  400.0\n"
          ]
        }
      ]
    },
    {
      "cell_type": "code",
      "source": [
        "def gcd(x, y):\n",
        "   gcd = 1   \n",
        "   if x % y == 0:\n",
        "       return y   \n",
        "   for k in range(int(y / 2), 0, -1):\n",
        "       if x % k == 0 and y % k == 0:\n",
        "           gcd = k\n",
        "           break \n",
        "   return gcd\n",
        "print(\"GCD of 12 & 17 =\",gcd(12, 17))\n",
        "print(\"GCD of 4 & 6 =\",gcd(4, 6))\n",
        "print(\"GCD of 336 & 360 =\",gcd(336, 360))"
      ],
      "metadata": {
        "colab": {
          "base_uri": "https://localhost:8080/"
        },
        "id": "GDCtpseBwQJ1",
        "outputId": "d60d69e7-aedc-468d-e30a-4cad25f2ca3b"
      },
      "execution_count": 43,
      "outputs": [
        {
          "output_type": "stream",
          "name": "stdout",
          "text": [
            "GCD of 12 & 17 = 1\n",
            "GCD of 4 & 6 = 2\n",
            "GCD of 336 & 360 = 24\n"
          ]
        }
      ]
    },
    {
      "cell_type": "code",
      "source": [
        "def lcm(x, y):\n",
        "  if x > y:\n",
        "      z = x\n",
        "  else:\n",
        "      z = y\n",
        "  while(True):\n",
        "      if((z % x == 0) and (z % y == 0)):\n",
        "          lcm = z\n",
        "          break\n",
        "      z += 1\n",
        "  return lcm\n",
        "print(lcm(4, 6))\n",
        "print(lcm(15, 17))"
      ],
      "metadata": {
        "colab": {
          "base_uri": "https://localhost:8080/"
        },
        "id": "qLbMgEZFwQLz",
        "outputId": "09586812-1b39-4520-a82a-9633911a923e"
      },
      "execution_count": 44,
      "outputs": [
        {
          "output_type": "stream",
          "name": "stdout",
          "text": [
            "12\n",
            "255\n"
          ]
        }
      ]
    },
    {
      "cell_type": "code",
      "source": [
        "def sum_three(x, y, z):\n",
        "    if x == y or y == z or x==z:\n",
        "        sum = 0\n",
        "    else:\n",
        "        sum = x + y + z\n",
        "    return sum\n",
        "print(sum_three(2, 1, 2))\n",
        "print(sum_three(3, 2, 2))\n",
        "print(sum_three(2, 2, 2))\n",
        "print(sum_three(1, 2, 3))\n"
      ],
      "metadata": {
        "colab": {
          "base_uri": "https://localhost:8080/"
        },
        "id": "mCx5BZPzwQOJ",
        "outputId": "28bb883f-49d7-4106-d635-bf6ab3c27ae8"
      },
      "execution_count": 45,
      "outputs": [
        {
          "output_type": "stream",
          "name": "stdout",
          "text": [
            "0\n",
            "0\n",
            "0\n",
            "6\n"
          ]
        }
      ]
    }
  ]
}